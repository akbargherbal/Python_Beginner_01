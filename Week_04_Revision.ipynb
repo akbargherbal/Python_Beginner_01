{
 "cells": [
  {
   "cell_type": "markdown",
   "metadata": {},
   "source": [
    "# Numpy"
   ]
  },
  {
   "cell_type": "code",
   "execution_count": null,
   "metadata": {},
   "outputs": [],
   "source": []
  },
  {
   "cell_type": "code",
   "execution_count": 35,
   "metadata": {},
   "outputs": [],
   "source": [
    "import numpy as np\n"
   ]
  },
  {
   "cell_type": "markdown",
   "metadata": {},
   "source": [
    "# Create a random array of 3 x 8 Matrix"
   ]
  },
  {
   "cell_type": "code",
   "execution_count": null,
   "metadata": {},
   "outputs": [],
   "source": []
  },
  {
   "cell_type": "markdown",
   "metadata": {},
   "source": [
    "# Ignore this تجاهلوا هذا 👇"
   ]
  },
  {
   "cell_type": "code",
   "execution_count": 36,
   "metadata": {},
   "outputs": [
    {
     "name": "stdout",
     "output_type": "stream",
     "text": [
      "[[96 12 82 71 64 88 76 10]\n",
      " [78 41  5 64 41 61 93 65]\n",
      " [ 6 13 94 41 50 84  9 30]]\n"
     ]
    }
   ],
   "source": [
    "arr = np.random.randint(1,101,24).reshape(3,8)\n",
    "print(arr)"
   ]
  },
  {
   "cell_type": "markdown",
   "metadata": {},
   "source": [
    "# Create a Matrix of 3 x 8 ---- 3 Rows; 8 Columns"
   ]
  },
  {
   "cell_type": "code",
   "execution_count": 37,
   "metadata": {},
   "outputs": [],
   "source": [
    "arr = np.array([[96, 12, 82, 71, 64, 88, 76, 10],\n",
    "                [78, 41, 5, 64, 41, 61, 93, 65],\n",
    "                [6, 13, 94, 41, 50, 84, 9, 30]])"
   ]
  },
  {
   "cell_type": "code",
   "execution_count": 38,
   "metadata": {},
   "outputs": [
    {
     "name": "stdout",
     "output_type": "stream",
     "text": [
      "The shape of arr: (3, 8)\n",
      "The size of arr: 24\n",
      "Number of dimensions: 2\n",
      "Data Types: int32\n"
     ]
    }
   ],
   "source": [
    "print(f\"The shape of arr: {arr.shape}\")\n",
    "print(f\"The size of arr: {arr.size}\")\n",
    "print(f\"Number of dimensions: {arr.ndim}\")\n",
    "print(f\"Data Types: {arr.dtype}\")"
   ]
  },
  {
   "cell_type": "markdown",
   "metadata": {},
   "source": [
    "# convert arr to 4x6 matrix"
   ]
  },
  {
   "cell_type": "code",
   "execution_count": 39,
   "metadata": {},
   "outputs": [
    {
     "data": {
      "text/plain": [
       "array([[96, 12, 82, 71, 64, 88],\n",
       "       [76, 10, 78, 41,  5, 64],\n",
       "       [41, 61, 93, 65,  6, 13],\n",
       "       [94, 41, 50, 84,  9, 30]])"
      ]
     },
     "execution_count": 39,
     "metadata": {},
     "output_type": "execute_result"
    }
   ],
   "source": [
    "arr.reshape(4,6)"
   ]
  },
  {
   "cell_type": "code",
   "execution_count": 40,
   "metadata": {},
   "outputs": [
    {
     "data": {
      "text/plain": [
       "array([[96, 12],\n",
       "       [82, 71],\n",
       "       [64, 88],\n",
       "       [76, 10],\n",
       "       [78, 41],\n",
       "       [ 5, 64],\n",
       "       [41, 61],\n",
       "       [93, 65],\n",
       "       [ 6, 13],\n",
       "       [94, 41],\n",
       "       [50, 84],\n",
       "       [ 9, 30]])"
      ]
     },
     "execution_count": 40,
     "metadata": {},
     "output_type": "execute_result"
    }
   ],
   "source": [
    "arr.reshape(12, 2)"
   ]
  },
  {
   "cell_type": "markdown",
   "metadata": {},
   "source": [
    "# Element-wise Operations"
   ]
  },
  {
   "cell_type": "code",
   "execution_count": 41,
   "metadata": {},
   "outputs": [],
   "source": [
    "arr_a = arr + 2          # Addition\n",
    "arr_b = arr - 3          # Subtraction\n",
    "arr_c = arr * 1.6        # Multiplication\n",
    "arr_d = arr / 2           # Division"
   ]
  },
  {
   "cell_type": "code",
   "execution_count": null,
   "metadata": {},
   "outputs": [],
   "source": []
  },
  {
   "cell_type": "code",
   "execution_count": 42,
   "metadata": {},
   "outputs": [
    {
     "name": "stdout",
     "output_type": "stream",
     "text": [
      "\n",
      "Transpose (T) of 3 x 8 Matrix becomes 8 x 3:\n",
      "[[96 78  6]\n",
      " [12 41 13]\n",
      " [82  5 94]\n",
      " [71 64 41]\n",
      " [64 41 50]\n",
      " [88 61 84]\n",
      " [76 93  9]\n",
      " [10 65 30]]\n",
      "---------------------------------\n",
      "Original Matrix:\n",
      "[[96 12 82 71 64 88 76 10]\n",
      " [78 41  5 64 41 61 93 65]\n",
      " [ 6 13 94 41 50 84  9 30]]\n",
      "\n"
     ]
    }
   ],
   "source": [
    "print(f\"\"\"\n",
    "Transpose (T) of 3 x 8 Matrix becomes 8 x 3:\n",
    "{arr.T}\n",
    "---------------------------------\n",
    "Original Matrix:\n",
    "{arr}\n",
    "\"\"\")"
   ]
  },
  {
   "cell_type": "code",
   "execution_count": 43,
   "metadata": {},
   "outputs": [
    {
     "data": {
      "text/plain": [
       "array([[38841, 28644, 22927],\n",
       "       [28644, 30162, 14056],\n",
       "       [22927, 14056, 21259]])"
      ]
     },
     "execution_count": 43,
     "metadata": {},
     "output_type": "execute_result"
    }
   ],
   "source": [
    "arr.dot(arr.T)"
   ]
  },
  {
   "cell_type": "code",
   "execution_count": 44,
   "metadata": {},
   "outputs": [
    {
     "data": {
      "text/plain": [
       "array([[15336,  4428,  8826, 12054,  9642, 13710, 14604,  6210],\n",
       "       [ 4428,  1994,  2411,  4009,  3099,  4649,  4842,  3175],\n",
       "       [ 8826,  2411, 15585,  9996, 10153, 15417,  7543,  3965],\n",
       "       [12054,  4009,  9996, 10818,  9218, 13596, 11717,  6100],\n",
       "       [ 9642,  3099, 10153,  9218,  8277, 12333,  9127,  4805],\n",
       "       [13710,  4649, 15417, 13596, 12333, 18521, 13117,  7365],\n",
       "       [14604,  4842,  7543, 11717,  9127, 13117, 14506,  7075],\n",
       "       [ 6210,  3175,  3965,  6100,  4805,  7365,  7075,  5225]])"
      ]
     },
     "execution_count": 44,
     "metadata": {},
     "output_type": "execute_result"
    }
   ],
   "source": [
    "arr.T.dot(arr)"
   ]
  },
  {
   "cell_type": "markdown",
   "metadata": {},
   "source": [
    "# (3, 8) x (8, 3)\n",
    "# (8, 3) x (3, 8)"
   ]
  },
  {
   "cell_type": "code",
   "execution_count": null,
   "metadata": {},
   "outputs": [],
   "source": []
  },
  {
   "cell_type": "markdown",
   "metadata": {},
   "source": [
    "# ZERO MATRIX"
   ]
  },
  {
   "cell_type": "code",
   "execution_count": 45,
   "metadata": {},
   "outputs": [],
   "source": [
    "zero_matrix = np.zeros((2, 6), dtype=int)"
   ]
  },
  {
   "cell_type": "code",
   "execution_count": 46,
   "metadata": {},
   "outputs": [
    {
     "data": {
      "text/plain": [
       "array([[0, 0, 0, 0, 0, 0],\n",
       "       [0, 0, 0, 0, 0, 0]])"
      ]
     },
     "execution_count": 46,
     "metadata": {},
     "output_type": "execute_result"
    }
   ],
   "source": [
    "zero_matrix"
   ]
  },
  {
   "cell_type": "code",
   "execution_count": 47,
   "metadata": {},
   "outputs": [
    {
     "data": {
      "text/plain": [
       "dtype('int32')"
      ]
     },
     "execution_count": 47,
     "metadata": {},
     "output_type": "execute_result"
    }
   ],
   "source": [
    "zero_matrix.dtype"
   ]
  },
  {
   "cell_type": "markdown",
   "metadata": {},
   "source": [
    "# ONES MATRIX "
   ]
  },
  {
   "cell_type": "code",
   "execution_count": 48,
   "metadata": {},
   "outputs": [],
   "source": [
    "ones_matrix = np.ones((4, 7))"
   ]
  },
  {
   "cell_type": "code",
   "execution_count": 49,
   "metadata": {},
   "outputs": [
    {
     "data": {
      "text/plain": [
       "array([[1., 1., 1., 1., 1., 1., 1.],\n",
       "       [1., 1., 1., 1., 1., 1., 1.],\n",
       "       [1., 1., 1., 1., 1., 1., 1.],\n",
       "       [1., 1., 1., 1., 1., 1., 1.]])"
      ]
     },
     "execution_count": 49,
     "metadata": {},
     "output_type": "execute_result"
    }
   ],
   "source": [
    "ones_matrix"
   ]
  },
  {
   "cell_type": "markdown",
   "metadata": {},
   "source": [
    "# ONES LIKE:"
   ]
  },
  {
   "cell_type": "code",
   "execution_count": 50,
   "metadata": {},
   "outputs": [],
   "source": [
    "arr_03 = np.ones_like(arr)"
   ]
  },
  {
   "cell_type": "code",
   "execution_count": 51,
   "metadata": {},
   "outputs": [
    {
     "data": {
      "text/plain": [
       "array([[1, 1, 1, 1, 1, 1, 1, 1],\n",
       "       [1, 1, 1, 1, 1, 1, 1, 1],\n",
       "       [1, 1, 1, 1, 1, 1, 1, 1]])"
      ]
     },
     "execution_count": 51,
     "metadata": {},
     "output_type": "execute_result"
    }
   ],
   "source": [
    "arr_03"
   ]
  },
  {
   "cell_type": "code",
   "execution_count": 52,
   "metadata": {},
   "outputs": [
    {
     "data": {
      "text/plain": [
       "True"
      ]
     },
     "execution_count": 52,
     "metadata": {},
     "output_type": "execute_result"
    }
   ],
   "source": [
    "arr_03.shape == arr.shape # Same Shape; But different Values."
   ]
  },
  {
   "cell_type": "code",
   "execution_count": null,
   "metadata": {},
   "outputs": [],
   "source": []
  },
  {
   "cell_type": "markdown",
   "metadata": {},
   "source": [
    "# Indexing"
   ]
  },
  {
   "cell_type": "markdown",
   "metadata": {},
   "source": [
    "# Select only the thrid coloum"
   ]
  },
  {
   "cell_type": "code",
   "execution_count": 53,
   "metadata": {},
   "outputs": [
    {
     "data": {
      "text/plain": [
       "array([82,  5, 94])"
      ]
     },
     "execution_count": 53,
     "metadata": {},
     "output_type": "execute_result"
    }
   ],
   "source": [
    "arr[:, 2]"
   ]
  },
  {
   "cell_type": "markdown",
   "metadata": {},
   "source": [
    "# Select the Second Row"
   ]
  },
  {
   "cell_type": "code",
   "execution_count": 54,
   "metadata": {},
   "outputs": [
    {
     "data": {
      "text/plain": [
       "array([78, 41,  5, 64, 41, 61, 93, 65])"
      ]
     },
     "execution_count": 54,
     "metadata": {},
     "output_type": "execute_result"
    }
   ],
   "source": [
    "arr[1, :]"
   ]
  },
  {
   "cell_type": "markdown",
   "metadata": {},
   "source": [
    "# Select all elements in the second row; only from the second column to the sixth column"
   ]
  },
  {
   "cell_type": "code",
   "execution_count": 55,
   "metadata": {},
   "outputs": [
    {
     "data": {
      "text/plain": [
       "array([41,  5, 64, 41, 61])"
      ]
     },
     "execution_count": 55,
     "metadata": {},
     "output_type": "execute_result"
    }
   ],
   "source": [
    "arr[1, 1:6]"
   ]
  },
  {
   "cell_type": "markdown",
   "metadata": {},
   "source": [
    "# Make all elements in the Fourth Column equal 0"
   ]
  },
  {
   "cell_type": "code",
   "execution_count": 56,
   "metadata": {},
   "outputs": [],
   "source": [
    "arr[:, 3] = 0"
   ]
  },
  {
   "cell_type": "code",
   "execution_count": 57,
   "metadata": {},
   "outputs": [
    {
     "data": {
      "text/plain": [
       "array([[96, 12, 82,  0, 64, 88, 76, 10],\n",
       "       [78, 41,  5,  0, 41, 61, 93, 65],\n",
       "       [ 6, 13, 94,  0, 50, 84,  9, 30]])"
      ]
     },
     "execution_count": 57,
     "metadata": {},
     "output_type": "execute_result"
    }
   ],
   "source": [
    "arr"
   ]
  },
  {
   "cell_type": "markdown",
   "metadata": {},
   "source": [
    "# Make all elements in the last row equal 7"
   ]
  },
  {
   "cell_type": "code",
   "execution_count": 64,
   "metadata": {},
   "outputs": [],
   "source": [
    "arr[-1, :] = -7 # Negative Indexing!"
   ]
  },
  {
   "cell_type": "code",
   "execution_count": 65,
   "metadata": {},
   "outputs": [
    {
     "data": {
      "text/plain": [
       "array([[96, 12, 82,  0, 64, 88, 76, 10],\n",
       "       [78, 41,  5,  0, 41, 61, 93, 65],\n",
       "       [-7, -7, -7, -7, -7, -7, -7, -7]])"
      ]
     },
     "execution_count": 65,
     "metadata": {},
     "output_type": "execute_result"
    }
   ],
   "source": [
    "arr"
   ]
  },
  {
   "cell_type": "code",
   "execution_count": null,
   "metadata": {},
   "outputs": [],
   "source": []
  },
  {
   "cell_type": "code",
   "execution_count": null,
   "metadata": {},
   "outputs": [],
   "source": []
  },
  {
   "cell_type": "markdown",
   "metadata": {},
   "source": [
    "# Numpy Arithmetic and Statistical Functions"
   ]
  },
  {
   "cell_type": "markdown",
   "metadata": {},
   "source": [
    "# Absolute Value"
   ]
  },
  {
   "cell_type": "code",
   "execution_count": 71,
   "metadata": {},
   "outputs": [
    {
     "data": {
      "text/plain": [
       "array([[96, 12, 82,  0, 64, 88, 76, 10],\n",
       "       [78, 41,  5,  0, 41, 61, 93, 65],\n",
       "       [ 7,  7,  7,  7,  7,  7,  7,  7]])"
      ]
     },
     "execution_count": 71,
     "metadata": {},
     "output_type": "execute_result"
    }
   ],
   "source": [
    "np.abs(arr) # Only Positive Numbers!"
   ]
  },
  {
   "cell_type": "markdown",
   "metadata": {},
   "source": [
    "# Square Root"
   ]
  },
  {
   "cell_type": "code",
   "execution_count": 73,
   "metadata": {},
   "outputs": [
    {
     "name": "stderr",
     "output_type": "stream",
     "text": [
      "<ipython-input-73-ee7fda9f3fb4>:1: RuntimeWarning: invalid value encountered in sqrt\n",
      "  np.sqrt(arr) # Assuming All Numbers are Positive\n"
     ]
    },
    {
     "data": {
      "text/plain": [
       "array([[9.79795897, 3.46410162, 9.05538514, 0.        , 8.        ,\n",
       "        9.38083152, 8.71779789, 3.16227766],\n",
       "       [8.83176087, 6.40312424, 2.23606798, 0.        , 6.40312424,\n",
       "        7.81024968, 9.64365076, 8.06225775],\n",
       "       [       nan,        nan,        nan,        nan,        nan,\n",
       "               nan,        nan,        nan]])"
      ]
     },
     "execution_count": 73,
     "metadata": {},
     "output_type": "execute_result"
    }
   ],
   "source": [
    "np.sqrt(arr) # Assuming All Numbers are Positive"
   ]
  },
  {
   "cell_type": "markdown",
   "metadata": {},
   "source": [
    "# Sign of Elements 1, 0, -1"
   ]
  },
  {
   "cell_type": "code",
   "execution_count": 76,
   "metadata": {},
   "outputs": [
    {
     "data": {
      "text/plain": [
       "array([[ 1,  1,  1,  0,  1,  1,  1,  1],\n",
       "       [ 1,  1,  1,  0,  1,  1,  1,  1],\n",
       "       [-1, -1, -1, -1, -1, -1, -1, -1]])"
      ]
     },
     "execution_count": 76,
     "metadata": {},
     "output_type": "execute_result"
    }
   ],
   "source": [
    "np.sign(arr)"
   ]
  },
  {
   "cell_type": "code",
   "execution_count": null,
   "metadata": {},
   "outputs": [],
   "source": []
  },
  {
   "cell_type": "markdown",
   "metadata": {},
   "source": [
    "# Exponetiation"
   ]
  },
  {
   "cell_type": "code",
   "execution_count": 77,
   "metadata": {},
   "outputs": [
    {
     "data": {
      "text/plain": [
       "array([[4.92345829e+41, 1.62754791e+05, 4.09399696e+35, 1.00000000e+00,\n",
       "        6.23514908e+27, 1.65163625e+38, 1.01480039e+33, 2.20264658e+04],\n",
       "       [7.49841700e+33, 6.39843494e+17, 1.48413159e+02, 1.00000000e+00,\n",
       "        6.39843494e+17, 3.10429794e+26, 2.45124554e+40, 1.69488924e+28],\n",
       "       [9.11881966e-04, 9.11881966e-04, 9.11881966e-04, 9.11881966e-04,\n",
       "        9.11881966e-04, 9.11881966e-04, 9.11881966e-04, 9.11881966e-04]])"
      ]
     },
     "execution_count": 77,
     "metadata": {},
     "output_type": "execute_result"
    }
   ],
   "source": [
    "np.exp(arr)"
   ]
  },
  {
   "cell_type": "markdown",
   "metadata": {},
   "source": [
    "# Sort"
   ]
  },
  {
   "cell_type": "code",
   "execution_count": 80,
   "metadata": {},
   "outputs": [
    {
     "data": {
      "text/plain": [
       "array([[ 0, 10, 12, 64, 76, 82, 88, 96],\n",
       "       [ 0,  5, 41, 41, 61, 65, 78, 93],\n",
       "       [-7, -7, -7, -7, -7, -7, -7, -7]])"
      ]
     },
     "execution_count": 80,
     "metadata": {},
     "output_type": "execute_result"
    }
   ],
   "source": [
    "np.sort(arr) # Sort Each Row Separetly"
   ]
  },
  {
   "cell_type": "markdown",
   "metadata": {},
   "source": [
    "# Linear Algebra"
   ]
  },
  {
   "cell_type": "markdown",
   "metadata": {},
   "source": [
    "# Dot Product"
   ]
  },
  {
   "cell_type": "code",
   "execution_count": null,
   "metadata": {},
   "outputs": [],
   "source": []
  }
 ],
 "metadata": {
  "kernelspec": {
   "display_name": "Python 3",
   "language": "python",
   "name": "python3"
  },
  "language_info": {
   "codemirror_mode": {
    "name": "ipython",
    "version": 3
   },
   "file_extension": ".py",
   "mimetype": "text/x-python",
   "name": "python",
   "nbconvert_exporter": "python",
   "pygments_lexer": "ipython3",
   "version": "3.8.7"
  }
 },
 "nbformat": 4,
 "nbformat_minor": 4
}
